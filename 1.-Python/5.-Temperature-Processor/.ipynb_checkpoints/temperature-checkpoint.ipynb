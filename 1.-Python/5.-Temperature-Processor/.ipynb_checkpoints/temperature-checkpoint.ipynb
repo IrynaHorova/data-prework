{
 "cells": [
  {
   "cell_type": "markdown",
   "metadata": {},
   "source": [
    "<img src=\"https://bit.ly/2VnXWr2\" width=\"100\" align=\"left\">"
   ]
  },
  {
   "cell_type": "markdown",
   "metadata": {},
   "source": [
    "# Temperature Sensor\n",
    "\n",
    "There is a temperature sensor in the processor of your company's server. The company wants to analyze the data provided by the sensor to decide if they should change the cooling system for a better one. As changing the cooling system is expensive and you are an excellent data analyst, you can't make a decision without basis.\n",
    "\n",
    "## Tools\n",
    "You don't necessarily need to use all the tools. Maybe you opt to use some of them or completely different ones, they are given to help you shape the exercise. Programming exercises can be solved in many different ways.\n",
    "1. Data structures: **lists**\n",
    "2. Loops: **list comprehension**\n",
    "3. Functions: **min, max, print, len**\n",
    "4. Conditional statements: **if-elif-else**\n",
    "\n",
    "## Tasks\n",
    "The temperatures measured throughout the 24 hours of a day are:"
   ]
  },
  {
   "cell_type": "code",
   "execution_count": 10,
   "metadata": {},
   "outputs": [],
   "source": [
    "temperatures_C = [33, 66, 65, 0, 59, 60, 62, 64, 70, 76, 80, 81, 80, 83, 90, 79, 61, 53, 50, 49, 53, 48, 45, 39]"
   ]
  },
  {
   "cell_type": "markdown",
   "metadata": {},
   "source": [
    "The first element of the list is the temperature at 12am, the second element is the temperature at 1am, and so on. \n",
    "\n",
    "The company has decided that if one of the following events occurs, then the cooling system needs to be replaced for a new one to avoid damaging the processor.\n",
    "* More than 4 temperatures are greater than or equal to 70ºC.\n",
    "* Any temperature is above 80ºC.\n",
    "* The average temperature exceeds 65ºC.\n",
    "\n",
    "Follow the steps so that you can make the decision.\n",
    "\n",
    "#### 1. Find the minimum temperature of the day and store it in a variable."
   ]
  },
  {
   "cell_type": "code",
   "execution_count": 12,
   "metadata": {},
   "outputs": [
    {
     "name": "stdout",
     "output_type": "stream",
     "text": [
      "Minimum temperature is 0\n"
     ]
    }
   ],
   "source": [
    "min_temp = min(temperatures_C)\n",
    "\n",
    "print(\"Minimum temperature is\", min_temp)"
   ]
  },
  {
   "cell_type": "markdown",
   "metadata": {},
   "source": [
    "#### 2. Find the maximum temperature of the day and store it in a variable."
   ]
  },
  {
   "cell_type": "code",
   "execution_count": 13,
   "metadata": {},
   "outputs": [
    {
     "name": "stdout",
     "output_type": "stream",
     "text": [
      "Maximum temperature is 90\n"
     ]
    }
   ],
   "source": [
    "max_temp = max(temperatures_C)\n",
    "\n",
    "print(\"Maximum temperature is\", max_temp)"
   ]
  },
  {
   "cell_type": "markdown",
   "metadata": {},
   "source": [
    "#### 3. Create a list with the temperatures that are greater than or equal to 70ºC. Store it in a variable."
   ]
  },
  {
   "cell_type": "code",
   "execution_count": 14,
   "metadata": {},
   "outputs": [
    {
     "name": "stdout",
     "output_type": "stream",
     "text": [
      "The list of temperatures that are greater than or equal to 70ºC is: [70, 76, 80, 81, 80, 83, 90, 79]\n"
     ]
    }
   ],
   "source": [
    "temp_70 = []\n",
    "\n",
    "for temp in range(len(temperatures_C)):\n",
    "    if temperatures_C[temp] >=70:\n",
    "        temp_70.append(temperatures_C[temp])\n",
    "\n",
    "print(\"The list of temperatures that are greater than or equal to 70ºC is:\",temp_70)"
   ]
  },
  {
   "cell_type": "markdown",
   "metadata": {},
   "source": [
    "#### 4. Find the average temperature of the day and store it in a variable."
   ]
  },
  {
   "cell_type": "code",
   "execution_count": 15,
   "metadata": {},
   "outputs": [
    {
     "name": "stdout",
     "output_type": "stream",
     "text": [
      "Average temperature is: 60.25\n"
     ]
    }
   ],
   "source": [
    "avg_temp = sum(temperatures_C)/len(temperatures_C)\n",
    "print(\"Average temperature is:\",avg_temp)"
   ]
  },
  {
   "cell_type": "markdown",
   "metadata": {},
   "source": [
    "#### 5. Imagine that there was a sensor failure at 3am and the data for that specific hour was not recorded. How would you estimate the missing value? Replace the current value of the list at 3am for an estimation. "
   ]
  },
  {
   "cell_type": "code",
   "execution_count": 16,
   "metadata": {},
   "outputs": [
    {
     "name": "stdout",
     "output_type": "stream",
     "text": [
      "Estimated 3am tempareture is: 62.0\n"
     ]
    }
   ],
   "source": [
    "temperatures_C[3] = (temperatures_C[2] + temperatures_C[4])/2\n",
    "\n",
    "print(\"Estimated 3am tempareture is:\", temperatures_C[3])"
   ]
  },
  {
   "cell_type": "markdown",
   "metadata": {},
   "source": [
    "#### 6. Bonus: the maintenance staff is from the United States and does not understand the international metric system. Help them by converting the temperatures from Celsius to Fahrenheit.\n",
    "To know more about temperature conversion check this [link](https://en.wikipedia.org/wiki/Conversion_of_units_of_temperature).\n",
    "\n",
    "**Formula**: \n",
    "\n",
    "$F = 1.8 * C + 32$"
   ]
  },
  {
   "cell_type": "code",
   "execution_count": 18,
   "metadata": {},
   "outputs": [
    {
     "name": "stdout",
     "output_type": "stream",
     "text": [
      "Temparetures in Fahrenheit are: [91.4, 150.8, 149.0, 143.60000000000002, 138.2, 140.0, 143.60000000000002, 147.2, 158.0, 168.8, 176.0, 177.8, 176.0, 181.4, 194.0, 174.20000000000002, 141.8, 127.4, 122.0, 120.2, 127.4, 118.4, 113.0, 102.2]\n"
     ]
    }
   ],
   "source": [
    "temperatures_F = []\n",
    "\n",
    "for temp in range(len(temperatures_C)):\n",
    "    temperatures_F.append(1.8*temperatures_C[temp]+32)\n",
    "\n",
    "print(\"Temparetures in Fahrenheit are:\", temperatures_F)"
   ]
  },
  {
   "cell_type": "markdown",
   "metadata": {},
   "source": [
    "#### 7. Make a decision!\n",
    "Now it's time to make a decision taking into account what you have seen until now. \n",
    "\n",
    "Remember that if one of the following events occurs, then the cooling system needs to be replaced for a new one to avoid damaging the processor.\n",
    "* More than 4 temperatures are greater than or equal to 70ºC.\n",
    "* Any temperature is above 80ºC.\n",
    "* The average temperature exceeds 65ºC.\n",
    "\n",
    "#### To make your decision, check if any of the three conditions above is met. You might need to use some of the variables you created in steps 1 to 6. Print a message to show if the cooling system needs to be changed or not."
   ]
  },
  {
   "cell_type": "code",
   "execution_count": 20,
   "metadata": {},
   "outputs": [
    {
     "name": "stdout",
     "output_type": "stream",
     "text": [
      "Cooling system needs to be changed\n"
     ]
    }
   ],
   "source": [
    "event_counter = 0\n",
    "\n",
    "temp_70 = []\n",
    "\n",
    "for temp in range(len(temperatures_C)):\n",
    "    if temperatures_C[temp] >=70:\n",
    "        temp_70.append(temperatures_C[temp])\n",
    "\n",
    "if (len(temp_70) > 4) | (max(temperatures_C) > 80) | (sum(temperatures_C)/len(temperatures_C) > 65):\n",
    "    print(\"Cooling system needs to be changed\")\n",
    "else:\n",
    "    print(\"Cooling system works fine and does NOT need to be changed\")"
   ]
  },
  {
   "cell_type": "markdown",
   "metadata": {},
   "source": [
    "## Bonus\n",
    "\n",
    "The company has decided that the decision you made is not valid. They want you to analyze the data again but this time, the conditions that need to be met in order to change the cooling system are different.\n",
    "\n",
    "This time, if one of the following events occurs, then the cooling system needs to be replaced:\n",
    "* The temperature is greater than 70ºC during more than 4 consecutive hours.\n",
    "* Any temperature is above 80ºC.\n",
    "* The average temperature exceeds 65ºC.\n",
    "\n",
    "Follow the steps so that you can make the decision.\n",
    "\n",
    "#### 1. Create a list with the hours where the temperature is greater than 70ºC. Store it in a variable."
   ]
  },
  {
   "cell_type": "code",
   "execution_count": 21,
   "metadata": {},
   "outputs": [
    {
     "name": "stdout",
     "output_type": "stream",
     "text": [
      "A list with the hours where the temperature is greater than 70ºC is: [9, 10, 11, 12, 13, 14, 15]\n"
     ]
    }
   ],
   "source": [
    "hours_70 = []\n",
    "\n",
    "for hour in range(24):\n",
    "    if temperatures_C[hour] > 70:\n",
    "        hours_70.append(hour)\n",
    "\n",
    "print(\"A list with the hours where the temperature is greater than 70ºC is:\", hours_70)"
   ]
  },
  {
   "cell_type": "markdown",
   "metadata": {},
   "source": [
    "#### 2. Check if the list you created in step 1 has more than 4 consecutive hours. "
   ]
  },
  {
   "cell_type": "code",
   "execution_count": 27,
   "metadata": {},
   "outputs": [
    {
     "name": "stdout",
     "output_type": "stream",
     "text": [
      "Number of consecutive hours with temperatures exceding 70C is GREATER than 4\n"
     ]
    }
   ],
   "source": [
    "consecutive_hours_70 = 1\n",
    "\n",
    "for hour in range(1, len(hours_70)):\n",
    "    if hours_70[hour] - hours_70[hour - 1] == 1:\n",
    "        consecutive_hours_70 += 1\n",
    "    else:\n",
    "        consecutive_hours_70 = 1\n",
    "        \n",
    "if consecutive_hours_70 > 4:\n",
    "    print(\"Number of consecutive hours with temperatures exceding 70C is GREATER than 4\")\n",
    "else:\n",
    "    print(\"Number of consecutive hours with temperatures exceding 70C is LESS than 4\")"
   ]
  },
  {
   "cell_type": "markdown",
   "metadata": {},
   "source": [
    "#### 3. Make the decision!\n",
    "To make your decision, check if any of the three conditions is met. Print a message to show if the cooling system needs to be changed or not."
   ]
  },
  {
   "cell_type": "code",
   "execution_count": 28,
   "metadata": {},
   "outputs": [
    {
     "name": "stdout",
     "output_type": "stream",
     "text": [
      "Cooling system needs to be changed\n"
     ]
    }
   ],
   "source": [
    "\n",
    "if (consecutive_hours_70 > 4) | (max(temperatures_C) > 80) | (sum(temperatures_C)/len(temperatures_C) > 65):\n",
    "    print(\"Cooling system needs to be changed\")\n",
    "else:\n",
    "    print(\"Cooling system works fine and does NOT need to be changed\")"
   ]
  },
  {
   "cell_type": "markdown",
   "metadata": {},
   "source": [
    "#### 4. Find the average value of the temperature lists (ºC and ºF). What is the relation between both average values?"
   ]
  },
  {
   "cell_type": "code",
   "execution_count": 34,
   "metadata": {},
   "outputs": [
    {
     "name": "stdout",
     "output_type": "stream",
     "text": [
      "Average value of the temperature lists in ºC  is 62.833333333333336\n",
      "Average value of the temperature lists in ºF is 145.1\n",
      "The relation between average values is Average(temperatures in ºF) = 1.8*Average(temperatures in ºC)+32\n"
     ]
    }
   ],
   "source": [
    "print(\"Average value of the temperature lists in ºC  is\", sum(temperatures_C)/len(temperatures_C))\n",
    "print(\"Average value of the temperature lists in ºF is\", sum(temperatures_F)/len(temperatures_F))\n",
    "print(\"The relation between average values is Average(temperatures in ºF) = 1.8*Average(temperatures in ºC)+32\")"
   ]
  },
  {
   "cell_type": "markdown",
   "metadata": {},
   "source": [
    "#### 5. Find the standard deviation of the temperature lists (ºC and ºF). What is the relation between both standard deviations?"
   ]
  },
  {
   "cell_type": "code",
   "execution_count": 38,
   "metadata": {},
   "outputs": [
    {
     "name": "stdout",
     "output_type": "stream",
     "text": [
      "The standard deviation of the temperature lists in ºC is: 14.633485192833897\n",
      "The standard deviation of the temperature lists in ºF is: 26.34027334710101\n",
      "The relation between standard deviations is STDEV(temperatures in ºF) = 1.8*STDEV(temperatures in ºC)\n"
     ]
    }
   ],
   "source": [
    "sq_deviation_C = 0\n",
    "sq_deviation_F = 0\n",
    "\n",
    "for temp in range(len(temperatures_C)):\n",
    "    sq_deviation_C += (temperatures_C[temp] - sum(temperatures_C)/len(temperatures_C))**2\n",
    "    sq_deviation_F += (temperatures_F[temp] - sum(temperatures_F)/len(temperatures_F))**2\n",
    "    \n",
    "print(\"The standard deviation of the temperature lists in ºC is:\", (sq_deviation_C/len(temperatures_C))**(1/2))\n",
    "print(\"The standard deviation of the temperature lists in ºF is:\", (sq_deviation_F/len(temperatures_F))**(1/2))\n",
    "print(\"The relation between standard deviations is STDEV(temperatures in ºF) = 1.8*STDEV(temperatures in ºC)\")"
   ]
  }
 ],
 "metadata": {
  "kernelspec": {
   "display_name": "Python 3",
   "language": "python",
   "name": "python3"
  },
  "language_info": {
   "codemirror_mode": {
    "name": "ipython",
    "version": 3
   },
   "file_extension": ".py",
   "mimetype": "text/x-python",
   "name": "python",
   "nbconvert_exporter": "python",
   "pygments_lexer": "ipython3",
   "version": "3.8.5"
  }
 },
 "nbformat": 4,
 "nbformat_minor": 2
}
