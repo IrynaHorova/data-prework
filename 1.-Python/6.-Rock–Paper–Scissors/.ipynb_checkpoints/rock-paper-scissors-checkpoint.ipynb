{
 "cells": [
  {
   "cell_type": "markdown",
   "metadata": {},
   "source": [
    "<img src=\"https://bit.ly/2VnXWr2\" width=\"100\" align=\"left\">"
   ]
  },
  {
   "cell_type": "markdown",
   "metadata": {},
   "source": [
    "# Rock, Paper & Scissors\n",
    "\n",
    "Let's play the famous game against our computer. You can check the rules [here](https://en.wikipedia.org/wiki/Rock%E2%80%93paper%E2%80%93scissors). \n",
    "\n",
    "## Task\n",
    "Create a program that imitates the playability of the well known game of rock, paper, scissors. Follow the guidelines provided.\n",
    "\n",
    "## Tools\n",
    "1. Loop: **for/while**\n",
    "2. Functions: **input(), print()...**\n",
    "3. Conditional statements: **if, elif, else**\n",
    "4. Definition of functions. Modular programming\n",
    "5. Import modules\n",
    "\n",
    "**To solve this challenge, the use of functions is recommended.**\n",
    "\n",
    "#### 1. Import the choice function of the random module."
   ]
  },
  {
   "cell_type": "code",
   "execution_count": 13,
   "metadata": {},
   "outputs": [],
   "source": [
    "from random import choice"
   ]
  },
  {
   "cell_type": "markdown",
   "metadata": {},
   "source": [
    "#### 2. Create a list that includes the 3 possible gesture options of the game: 'rock', 'paper' or 'scissors'. Store the list in a variable called `gestures`."
   ]
  },
  {
   "cell_type": "code",
   "execution_count": 8,
   "metadata": {},
   "outputs": [
    {
     "name": "stdout",
     "output_type": "stream",
     "text": [
      "Gestures are: ['rock', 'paper', 'scissors']\n"
     ]
    }
   ],
   "source": [
    "gestures = [\"rock\", \"paper\", \"scissors\"]\n",
    "print(\"Gestures are:\", gestures)"
   ]
  },
  {
   "cell_type": "markdown",
   "metadata": {},
   "source": [
    "#### 3. Create a variable called `n_rounds` to store the maximum number of rounds to play in a game. \n",
    "Remember that the number of rounds must be odd: 1, 3, 5, ..."
   ]
  },
  {
   "cell_type": "code",
   "execution_count": 9,
   "metadata": {},
   "outputs": [
    {
     "name": "stdout",
     "output_type": "stream",
     "text": [
      "Number of rounds to play is: 7\n"
     ]
    }
   ],
   "source": [
    "n_rounds = 7\n",
    "print(\"Number of rounds to play is:\", n_rounds)"
   ]
  },
  {
   "cell_type": "markdown",
   "metadata": {},
   "source": [
    "#### 4. Create a variable called `rounds_to_win` to store the number of rounds that a player must win to win the game.\n",
    "**Hint**: the value stored in `rounds_to_win` depends on the value of `n_rounds`. "
   ]
  },
  {
   "cell_type": "code",
   "execution_count": 10,
   "metadata": {},
   "outputs": [
    {
     "name": "stdout",
     "output_type": "stream",
     "text": [
      "Number of rounds that a player must win to win the game: 4\n"
     ]
    }
   ],
   "source": [
    "rounds_to_win = int(n_rounds /2 )+1\n",
    "\n",
    "print(\"Number of rounds that a player must win to win the game:\", rounds_to_win)"
   ]
  },
  {
   "cell_type": "markdown",
   "metadata": {},
   "source": [
    "#### 5. Create two variables to store the number of rounds that the computer and the player have won. Call these variables `cpu_score` and `player_score`."
   ]
  },
  {
   "cell_type": "code",
   "execution_count": 11,
   "metadata": {},
   "outputs": [],
   "source": [
    "cpu_score = 0\n",
    "player_score = 0"
   ]
  },
  {
   "cell_type": "markdown",
   "metadata": {},
   "source": [
    "#### 6. Define a function that randomly returns one of the 3 gesture options.\n",
    "You will use this function to simulate the gesture choice of the computer. "
   ]
  },
  {
   "cell_type": "code",
   "execution_count": 17,
   "metadata": {},
   "outputs": [
    {
     "name": "stdout",
     "output_type": "stream",
     "text": [
      "Gesture choice of the computer is: scissors\n"
     ]
    }
   ],
   "source": [
    "def computer_choice():\n",
    "    return choice(gestures)\n",
    "print(\"Gesture choice of the computer is:\", computer_choice())"
   ]
  },
  {
   "cell_type": "markdown",
   "metadata": {},
   "source": [
    "#### 7. Define a function that asks the player which is the gesture he or she wants to show: 'rock', 'paper' or 'scissors'.\n",
    "The player should only be allowed to choose one of the 3 gesture options. If the player's choice is not rock, paper or scissors, keep asking until it is."
   ]
  },
  {
   "cell_type": "code",
   "execution_count": 22,
   "metadata": {},
   "outputs": [],
   "source": [
    "def player_choice():\n",
    "    player_choice_l = 'n/a'\n",
    "    while player_choice_l not in gestures:\n",
    "        player_choice_l = input(\"Player, which gesture to show: 'rock', 'paper' or 'scissors'?\")\n",
    "    return player_choice_l "
   ]
  },
  {
   "cell_type": "markdown",
   "metadata": {},
   "source": [
    "#### 8. Define a function that checks who won a round. \n",
    "The function should return 0 if there is a tie, 1 if the computer wins and 2 if the player wins."
   ]
  },
  {
   "cell_type": "code",
   "execution_count": 26,
   "metadata": {},
   "outputs": [],
   "source": [
    "def who_won(cpu_gesture,player_gesture):\n",
    "    if cpu_gesture == player_gesture:\n",
    "        return 0\n",
    "    elif (cpu_gesture == 'paper') & (player_gesture == 'rock'):\n",
    "        return 1\n",
    "    elif (cpu_gesture == 'rock') & (player_gesture == 'scissors'):\n",
    "        return 1\n",
    "    elif (cpu_gesture == 'scissors') & (player_gesture == 'paper'):\n",
    "        return 1\n",
    "    elif (player_gesture == 'paper') & (cpu_gesture == 'rock'):\n",
    "        return 2\n",
    "    elif (player_gesture == 'rock') & (cpu_gesture == 'scissors'):\n",
    "        return 2\n",
    "    elif (player_gesture == 'scissors') & (cpu_gesture == 'paper'):\n",
    "        return 2\n"
   ]
  },
  {
   "cell_type": "markdown",
   "metadata": {},
   "source": [
    "#### 9. Define a function that prints the choice of the computer, the choice of the player and a message that announces who won the current round. \n",
    "You should also use this function to update the variables that count the number of rounds that the computer and the player have won. The score of the winner increases by one point. If there is a tie, the score does not increase."
   ]
  },
  {
   "cell_type": "code",
   "execution_count": 27,
   "metadata": {},
   "outputs": [],
   "source": [
    "def round_result(cpu_choice,player_choice):\n",
    "    cpu_score_round = 0\n",
    "    player_score_round = 0\n",
    "    print(\"CPU choice is:\", cpu_choice)\n",
    "    print(\"Player choice is:\", player_choice)\n",
    "    who_won_round = who_won(cpu_choice,player_choice)\n",
    "    if who_won_round == 0:\n",
    "        print(\"It's a tie round\")\n",
    "    elif who_won_round == 1:\n",
    "        print(\"Computer won the round\")\n",
    "        cpu_score_round += 1\n",
    "    elif who_won_round == 2:\n",
    "        print(\"Player won the round\")\n",
    "        player_score_round += 1\n",
    "    return cpu_score_round, player_score_round "
   ]
  },
  {
   "cell_type": "markdown",
   "metadata": {},
   "source": [
    "#### 10. Now it's time to code the execution of the game using the functions and variables you defined above. \n",
    "\n",
    "First, create a loop structure that repeats while no player reaches the minimum score necessary to win and the number of rounds is less than the maximum number of rounds to play in a game.  \n",
    "\n",
    "Inside the loop, use the functions and variables above to create the execution of a round: ask for the player's choice, generate the random choice of the computer, show the round results, update the scores, etc. "
   ]
  },
  {
   "cell_type": "code",
   "execution_count": 28,
   "metadata": {},
   "outputs": [
    {
     "name": "stdout",
     "output_type": "stream",
     "text": [
      "***************This is round number 1 ***************\n",
      "Player, which gesture to show: 'rock', 'paper' or 'scissors'?paper\n",
      "CPU choice is: paper\n",
      "Player choice is: paper\n",
      "It's a tie round\n",
      "Player's score is 0\n",
      "CPU's score is 0\n",
      "***************This is round number 2 ***************\n",
      "Player, which gesture to show: 'rock', 'paper' or 'scissors'?scissor\n",
      "Player, which gesture to show: 'rock', 'paper' or 'scissors'?rock\n",
      "CPU choice is: scissors\n",
      "Player choice is: rock\n",
      "Player won the round\n",
      "Player's score is 1\n",
      "CPU's score is 0\n",
      "***************This is round number 3 ***************\n",
      "Player, which gesture to show: 'rock', 'paper' or 'scissors'?rock\n",
      "CPU choice is: paper\n",
      "Player choice is: rock\n",
      "Computer won the round\n",
      "Player's score is 1\n",
      "CPU's score is 1\n",
      "***************This is round number 4 ***************\n",
      "Player, which gesture to show: 'rock', 'paper' or 'scissors'?rock\n",
      "CPU choice is: scissors\n",
      "Player choice is: rock\n",
      "Player won the round\n",
      "Player's score is 2\n",
      "CPU's score is 1\n",
      "***************This is round number 5 ***************\n",
      "Player, which gesture to show: 'rock', 'paper' or 'scissors'?paper\n",
      "CPU choice is: scissors\n",
      "Player choice is: paper\n",
      "Computer won the round\n",
      "Player's score is 2\n",
      "CPU's score is 2\n",
      "***************This is round number 6 ***************\n",
      "Player, which gesture to show: 'rock', 'paper' or 'scissors'?rock\n",
      "CPU choice is: rock\n",
      "Player choice is: rock\n",
      "It's a tie round\n",
      "Player's score is 2\n",
      "CPU's score is 2\n",
      "***************This is round number 7 ***************\n",
      "Player, which gesture to show: 'rock', 'paper' or 'scissors'?rock\n",
      "CPU choice is: scissors\n",
      "Player choice is: rock\n",
      "Player won the round\n",
      "Player's score is 3\n",
      "CPU's score is 2\n"
     ]
    }
   ],
   "source": [
    "round_number = 1\n",
    "\n",
    "cpu_score = 0\n",
    "player_score = 0\n",
    "\n",
    "while (cpu_score < rounds_to_win) & (player_score < rounds_to_win) & (round_number <= n_rounds):\n",
    "    print(\"***************This is round number\", round_number,\"***************\")\n",
    "    player_choice_round = player_choice()\n",
    "    cpu_choice_round = computer_choice()\n",
    "    result = round_result(cpu_choice_round,player_choice_round)\n",
    "    cpu_score +=  result[0]\n",
    "    player_score += result[1]\n",
    "    print(\"Player's score is\", player_score)\n",
    "    print(\"CPU's score is\", cpu_score)\n",
    "    round_number += 1"
   ]
  },
  {
   "cell_type": "markdown",
   "metadata": {},
   "source": [
    "#### 11. Print the winner of the game based on who won more rounds.\n",
    "Remember that the game might be tied. "
   ]
  },
  {
   "cell_type": "code",
   "execution_count": 29,
   "metadata": {},
   "outputs": [
    {
     "name": "stdout",
     "output_type": "stream",
     "text": [
      "Player won the game\n"
     ]
    }
   ],
   "source": [
    "if cpu_score > player_score:\n",
    "    print(\"Computer won the game\")\n",
    "elif cpu_score < player_score:\n",
    "    print(\"Player won the game\")\n",
    "else:\n",
    "    print(\"It's a tie game\")"
   ]
  },
  {
   "cell_type": "markdown",
   "metadata": {},
   "source": [
    "# Bonus: Rock, Paper, Scissors, Lizard & Spock\n",
    "![](images/rpsls.jpg)\n",
    "\n",
    "In this challenge, you need to improve the previous game by adding two new options. To know more about the rules of the improved version of rock, paper, scissors, check this [link](http://www.samkass.com/theories/RPSSL.html). \n",
    "\n",
    "In addition, you will also need to improve how the game interacts with the player: the number of rounds to play, which must be an odd number, will be requested to the user until a valid number is entered. Define a new function to make that request.\n",
    "\n",
    "**Hint**: Try to reuse the code that you already coded in the previous challenge. If your code is efficient, this bonus will only consist of simple modifications to the original game."
   ]
  },
  {
   "cell_type": "markdown",
   "metadata": {},
   "source": [
    "#### Define gestures"
   ]
  },
  {
   "cell_type": "code",
   "execution_count": 30,
   "metadata": {},
   "outputs": [],
   "source": [
    "gestures_b = [\"rock\", \"paper\", \"scissors\", 'lizard', 'spock']"
   ]
  },
  {
   "cell_type": "markdown",
   "metadata": {},
   "source": [
    "#### Define a function that randomly returns one of the 5 gesture options. "
   ]
  },
  {
   "cell_type": "code",
   "execution_count": 38,
   "metadata": {},
   "outputs": [],
   "source": [
    "def computer_choice_b():\n",
    "    return choice(gestures_b)"
   ]
  },
  {
   "cell_type": "markdown",
   "metadata": {},
   "source": [
    "#### Define a function that asks the player which is the gesture he or she wants to show: 'rock', 'paper', 'scissors', 'lizard', 'spock'."
   ]
  },
  {
   "cell_type": "code",
   "execution_count": 39,
   "metadata": {},
   "outputs": [],
   "source": [
    "def player_choice_b():\n",
    "    player_choice_l_b = 'n/a'\n",
    "    while player_choice_l_b not in gestures_b:\n",
    "        player_choice_l_b = input(\"Player, which gesture to show: 'rock','paper','scissors','lizard','spock'?\")\n",
    "    return player_choice_l_b "
   ]
  },
  {
   "cell_type": "markdown",
   "metadata": {},
   "source": [
    "#### Define a function that checks who won a round."
   ]
  },
  {
   "cell_type": "code",
   "execution_count": 40,
   "metadata": {},
   "outputs": [],
   "source": [
    "def who_won_b(cpu_gesture,player_gesture):\n",
    "    if cpu_gesture == player_gesture:\n",
    "        return 0\n",
    "    elif (cpu_gesture == 'scissor') & (player_gesture == 'paper'):\n",
    "        return 1\n",
    "    elif (cpu_gesture == 'paper') & (player_gesture == 'rocks'):\n",
    "        return 1\n",
    "    elif (cpu_gesture == 'rock') & (player_gesture == 'lizard'):\n",
    "        return 1\n",
    "    elif (cpu_gesture == 'lizard') & (player_gesture == 'spock'):\n",
    "        return 1\n",
    "    elif (cpu_gesture == 'spock') & (player_gesture == 'scissors'):\n",
    "        return 1\n",
    "    elif (cpu_gesture == 'scissors') & (player_gesture == 'lizard'):\n",
    "        return 1\n",
    "    elif (cpu_gesture == 'lizard') & (player_gesture == 'paper'):\n",
    "        return 1\n",
    "    elif (cpu_gesture == 'paper') & (player_gesture == 'spock'):\n",
    "        return 1\n",
    "    elif (cpu_gesture == 'spock') & (player_gesture == 'rock'):\n",
    "        return 1\n",
    "    elif (cpu_gesture == 'rock') & (player_gesture == 'scissors'):\n",
    "        return 1\n",
    "    \n",
    "    elif (player_gesture == 'scissor') & (cpu_gesture == 'paper'):\n",
    "        return 2\n",
    "    elif (player_gesture == 'paper') & (cpu_gesture == 'rocks'):\n",
    "        return 2\n",
    "    elif (player_gesture == 'rock') & (cpu_gesture == 'lizard'):\n",
    "        return 2\n",
    "    elif (player_gesture == 'lizard') & (cpu_gesture == 'spock'):\n",
    "        return 2\n",
    "    elif (player_gesture == 'spock') & (cpu_gesture == 'scissors'):\n",
    "        return 2\n",
    "    elif (player_gesture == 'scissors') & (cpu_gesture == 'lizard'):\n",
    "        return 2\n",
    "    elif (player_gesture == 'lizard') & (cpu_gesture == 'paper'):\n",
    "        return 2\n",
    "    elif (player_gesture == 'paper') & (cpu_gesture == 'spock'):\n",
    "        return 2\n",
    "    elif (player_gesture == 'spock') & (cpu_gesture == 'rock'):\n",
    "        return 2\n",
    "    elif (player_gesture == 'rock') & (cpu_gesture == 'scissors'):\n",
    "        return 2"
   ]
  },
  {
   "cell_type": "markdown",
   "metadata": {},
   "source": [
    "#### Define a function that prints the choice of the computer, the choice of the player and a message that announces who won the current round."
   ]
  },
  {
   "cell_type": "code",
   "execution_count": 41,
   "metadata": {},
   "outputs": [],
   "source": [
    "def round_result_b(cpu_choice,player_choice):\n",
    "    cpu_score_round_b = 0\n",
    "    player_score_round_b = 0\n",
    "    print(\"CPU choice is:\", cpu_choice)\n",
    "    print(\"Player choice is:\", player_choice)\n",
    "    who_won_round_b = who_won_b(cpu_choice,player_choice)\n",
    "    if who_won_round_b == 0:\n",
    "        print(\"It's a tie round\")\n",
    "    elif who_won_round_b == 1:\n",
    "        print(\"Computer won the round\")\n",
    "        cpu_score_round_b += 1\n",
    "    elif who_won_round_b == 2:\n",
    "        print(\"Player won the round\")\n",
    "        player_score_round_b += 1\n",
    "    return cpu_score_round_b, player_score_round_b "
   ]
  },
  {
   "cell_type": "markdown",
   "metadata": {},
   "source": [
    "#### Define a function requesting number of rounds"
   ]
  },
  {
   "cell_type": "code",
   "execution_count": 42,
   "metadata": {},
   "outputs": [],
   "source": [
    "def number_of_rounds_to_play():\n",
    "    nr_rounds_b = int(input(\"Choose number of rounds to play, must be odd number!\"))\n",
    "    while int(nr_rounds_b % 2) == 0 :\n",
    "        nr_rounds_b = int(input(\"Choose number of rounds to play, must be odd number!\"))     \n",
    "    return int(nr_rounds_b)"
   ]
  },
  {
   "cell_type": "markdown",
   "metadata": {},
   "source": [
    "#### Program game "
   ]
  },
  {
   "cell_type": "code",
   "execution_count": 43,
   "metadata": {},
   "outputs": [
    {
     "name": "stdout",
     "output_type": "stream",
     "text": [
      "Choose number of rounds to play, must be odd number!5\n",
      "***************This is round number 8 ***************\n",
      "Player, which gesture to show: 'rock','paper','scissors','lizard','spock'?rock\n",
      "CPU choice is: spock\n",
      "Player choice is: rock\n",
      "Computer won the round\n",
      "Player's score is 0\n",
      "CPU's score is 1\n",
      "***************This is round number 8 ***************\n",
      "Player, which gesture to show: 'rock','paper','scissors','lizard','spock'?\n",
      "Player, which gesture to show: 'rock','paper','scissors','lizard','spock'?paper\n",
      "CPU choice is: lizard\n",
      "Player choice is: paper\n",
      "Computer won the round\n",
      "Player's score is 0\n",
      "CPU's score is 2\n",
      "***************This is round number 8 ***************\n",
      "Player, which gesture to show: 'rock','paper','scissors','lizard','spock'?scissors\n",
      "CPU choice is: scissors\n",
      "Player choice is: scissors\n",
      "It's a tie round\n",
      "Player's score is 0\n",
      "CPU's score is 2\n",
      "***************This is round number 8 ***************\n",
      "Player, which gesture to show: 'rock','paper','scissors','lizard','spock'?lizard\n",
      "CPU choice is: lizard\n",
      "Player choice is: lizard\n",
      "It's a tie round\n",
      "Player's score is 0\n",
      "CPU's score is 2\n",
      "***************This is round number 8 ***************\n",
      "Player, which gesture to show: 'rock','paper','scissors','lizard','spock'?spock\n",
      "CPU choice is: spock\n",
      "Player choice is: spock\n",
      "It's a tie round\n",
      "Player's score is 0\n",
      "CPU's score is 2\n"
     ]
    }
   ],
   "source": [
    "round_number_b = 1\n",
    "\n",
    "cpu_score_b = 0\n",
    "player_score_b = 0\n",
    "\n",
    "number_of_rounds_to_play_b = number_of_rounds_to_play()\n",
    "\n",
    "rounds_to_win_b = int(number_of_rounds_to_play_b / 2) + 1\n",
    "\n",
    "while (cpu_score_b < rounds_to_win_b) & (player_score_b < rounds_to_win_b) & (round_number_b <= number_of_rounds_to_play_b):\n",
    "    \n",
    "    print(\"***************This is round number\", round_number,\"***************\")\n",
    "    player_choice_round = player_choice_b()\n",
    "    cpu_choice_round = computer_choice_b()\n",
    "    result = round_result_b(cpu_choice_round,player_choice_round)\n",
    "    cpu_score_b +=  result[0]\n",
    "    player_score_b += result[1]\n",
    "    print(\"Player's score is\", player_score_b)\n",
    "    print(\"CPU's score is\", cpu_score_b)\n",
    "    round_number_b += 1"
   ]
  },
  {
   "cell_type": "markdown",
   "metadata": {},
   "source": [
    "#### Print game result"
   ]
  },
  {
   "cell_type": "code",
   "execution_count": 44,
   "metadata": {},
   "outputs": [
    {
     "name": "stdout",
     "output_type": "stream",
     "text": [
      "Computer won the Bonus game\n"
     ]
    }
   ],
   "source": [
    "if cpu_score_b > player_score_b:\n",
    "    print(\"Computer won the Bonus game\")\n",
    "elif cpu_score_b < player_score_b:\n",
    "    print(\"Player won the Bonus game\")\n",
    "else:\n",
    "    print(\"It's a tie Bonus game\")"
   ]
  }
 ],
 "metadata": {
  "kernelspec": {
   "display_name": "Python 3",
   "language": "python",
   "name": "python3"
  },
  "language_info": {
   "codemirror_mode": {
    "name": "ipython",
    "version": 3
   },
   "file_extension": ".py",
   "mimetype": "text/x-python",
   "name": "python",
   "nbconvert_exporter": "python",
   "pygments_lexer": "ipython3",
   "version": "3.8.5"
  }
 },
 "nbformat": 4,
 "nbformat_minor": 2
}
